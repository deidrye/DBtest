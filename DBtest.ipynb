{
 "cells": [
  {
   "cell_type": "code",
   "execution_count": 1,
   "id": "a6a4a661",
   "metadata": {},
   "outputs": [],
   "source": [
    "import pandas as pd\n",
    "import numpy as np\n",
    "import psycopg2\n",
    "import random\n",
    "from random import randint\n",
    "from configparser import ConfigParser"
   ]
  },
  {
   "cell_type": "markdown",
   "id": "cdc562a3",
   "metadata": {},
   "source": [
    "# 1. Подключение к СУБД"
   ]
  },
  {
   "cell_type": "code",
   "execution_count": 2,
   "id": "768082fe",
   "metadata": {},
   "outputs": [],
   "source": [
    "def config(filename='DBtest.ini', section='postgresql'):\n",
    "    # create a parser\n",
    "    parser = ConfigParser()\n",
    "    # read config file\n",
    "    parser.read(filename)\n",
    "\n",
    "    # get section, default to postgresql\n",
    "    db = {}\n",
    "    if parser.has_section(section):\n",
    "        params = parser.items(section)\n",
    "        for param in params:\n",
    "            db[param[0]] = param[1]\n",
    "    else:\n",
    "        raise Exception('Section {0} not found in the {1} file'.format(section, filename))\n",
    "\n",
    "    return db"
   ]
  },
  {
   "cell_type": "code",
   "execution_count": 3,
   "id": "30b89317",
   "metadata": {},
   "outputs": [
    {
     "name": "stdout",
     "output_type": "stream",
     "text": [
      "Connecting to the PostgreSQL database...\n",
      "PostgreSQL database version:\n",
      "('PostgreSQL 14.2, compiled by Visual C++ build 1914, 64-bit',)\n",
      "Database connection closed.\n"
     ]
    }
   ],
   "source": [
    "params = config()\n",
    "def connect():\n",
    "    conn = None\n",
    "    try:\n",
    "        # read connection parameters\n",
    "\n",
    "        # connect to the PostgreSQL server\n",
    "        print('Connecting to the PostgreSQL database...')\n",
    "        conn = psycopg2.connect(**params)\n",
    "\n",
    "        # create a cursor\n",
    "        cur = conn.cursor()\n",
    "        \n",
    "        # execute a statement\n",
    "        print('PostgreSQL database version:')\n",
    "        cur.execute('SELECT version()')\n",
    "\n",
    "        # display the PostgreSQL database server version\n",
    "        db_version = cur.fetchone()\n",
    "        print(db_version)\n",
    "       \n",
    "        # close the communication with the PostgreSQL\n",
    "        cur.close()\n",
    "    except (Exception, psycopg2.DatabaseError) as error:\n",
    "        print(error)\n",
    "    finally:\n",
    "        if conn is not None:\n",
    "            conn.close()\n",
    "            print('Database connection closed.')\n",
    "    \n",
    "    \n",
    "if __name__ == '__main__':\n",
    "   connect()\n"
   ]
  },
  {
   "cell_type": "markdown",
   "id": "5b055c34",
   "metadata": {},
   "source": [
    "# 2. Создание таблиц:"
   ]
  },
  {
   "cell_type": "code",
   "execution_count": 5,
   "id": "59c8c169",
   "metadata": {},
   "outputs": [],
   "source": [
    "def create_tables():\n",
    "    commands = (\"\"\"CREATE TABLE IF NOT EXISTS Users (\n",
    "                    user_id SERIAL PRIMARY KEY,\n",
    "                    age INT2 NOT NULL)\"\"\",\n",
    "                \n",
    "                \"\"\"CREATE TABLE IF NOT EXISTS Items (\n",
    "                   item_id SERIAL PRIMARY KEY,\n",
    "                   price FLOAT4 NOT NULL)\"\"\",\n",
    "                \n",
    "                \"\"\"CREATE TABLE IF NOT EXISTS Purchases (\n",
    "                    purchase_id SERIAL PRIMARY KEY,\n",
    "                    user_id INT2 NOT NULL,\n",
    "                    FOREIGN KEY (user_id) REFERENCES Users (user_id) ON UPDATE CASCADE ON DELETE CASCADE,\n",
    "                    item_id INT2 NOT NULL,\n",
    "                    FOREIGN KEY (item_id) REFERENCES Items (item_id) ON UPDATE CASCADE ON DELETE CASCADE,\n",
    "                    date DATE)\"\"\",\n",
    "        \n",
    "        )\n",
    "    conn = None\n",
    "    try:\n",
    "        # connect to the PostgreSQL server\n",
    "        conn = psycopg2.connect(**params)\n",
    "        cur = conn.cursor()\n",
    "        # create table one by one\n",
    "        for command in commands:\n",
    "            cur.execute(command)\n",
    "        # close communication with the PostgreSQL database server\n",
    "        cur.close()\n",
    "        # commit the changes\n",
    "        conn.commit()\n",
    "    except (Exception, psycopg2.DatabaseError) as error:\n",
    "        print(error)\n",
    "    finally:\n",
    "        if conn is not None:\n",
    "            conn.close()\n",
    "\n",
    "\n",
    "if __name__ == '__main__':\n",
    "    create_tables()"
   ]
  },
  {
   "cell_type": "markdown",
   "id": "34ceeb50",
   "metadata": {},
   "source": [
    "## 2.1 Функция получения заголовков таблицы"
   ]
  },
  {
   "cell_type": "code",
   "execution_count": 9,
   "id": "5ac6b410",
   "metadata": {},
   "outputs": [
    {
     "data": {
      "text/plain": [
       "['user_id', 'age']"
      ]
     },
     "execution_count": 9,
     "metadata": {},
     "output_type": "execute_result"
    }
   ],
   "source": [
    "from psycopg2 import sql, connect\n",
    "\n",
    "\n",
    "\n",
    "# define a function that gets the column names from a PostgreSQL table\n",
    "def get_columns_names(table):\n",
    "    conn = None\n",
    "    try:\n",
    "        # declare a new PostgreSQL connection object\n",
    "        conn = psycopg2.connect(**params)\n",
    "    \n",
    "    # declare an empty list for the column names\n",
    "        column_names = []\n",
    "\n",
    "    # declare cursor objects from the connection    \n",
    "        col_cursor = conn.cursor()\n",
    "\n",
    "        sql = '''SELECT * FROM {}'''.format(table)\n",
    "        col_cursor.execute(sql)\n",
    "        column_names = [desc[0] for desc in col_cursor.description]\n",
    "\n",
    "        # close the cursor object to prevent memory leaks\n",
    "        col_cursor.close()\n",
    "\n",
    "    except Exception as err:\n",
    "        print (\"get_columns_names ERROR:\", err)\n",
    "\n",
    "    # return the list of column names\n",
    "    return column_names\n",
    "get_columns_names('Users')"
   ]
  },
  {
   "cell_type": "markdown",
   "id": "87ec76e9",
   "metadata": {},
   "source": [
    "## 2.2 Функция вывода таблицы в датафрейм"
   ]
  },
  {
   "cell_type": "code",
   "execution_count": 26,
   "id": "02ad0c68",
   "metadata": {},
   "outputs": [],
   "source": [
    "def postgres_to_dataframe(select_query):\n",
    "    conn = psycopg2.connect(**params)\n",
    "    cur = conn.cursor()\n",
    "    try:\n",
    "        cur.execute(select_query)\n",
    "    except (Exception, psycopg2.DatabaseError) as error:\n",
    "        print(\"Error: %s\" % error)\n",
    "        cur.close\n",
    "        return 1\n",
    "    \n",
    "    column_names = [desc[0] for desc in cur.description]\n",
    "    tupples = cur.fetchall()\n",
    "    cur.close\n",
    "    \n",
    "    df = pd.DataFrame(tupples, columns = column_names)\n",
    "    return df\n",
    "    "
   ]
  },
  {
   "cell_type": "markdown",
   "id": "3b31baca",
   "metadata": {},
   "source": [
    "## 2.3 Функция заполнения таблиц путём INSERT INTO"
   ]
  },
  {
   "cell_type": "code",
   "execution_count": 10,
   "id": "aca3c262",
   "metadata": {},
   "outputs": [],
   "source": [
    "def insert(table_name, record_to_insert, x):\n",
    "    try:\n",
    "        conn = psycopg2.connect(**params)\n",
    "        cur = conn.cursor()\n",
    "        columns = get_columns_names(table_name)\n",
    "        columns_str = \"\"\n",
    "        value_str = \"\"\n",
    "        sign = \"%s\"\n",
    "        for i in range(len(columns)):\n",
    "            if (i != len(columns) -1):\n",
    "                columns_str+=\"{},\".format(columns[i])\n",
    "                value_str+=\"{},\".format(sign)\n",
    "            else:\n",
    "                columns_str+=columns[i]\n",
    "                value_str+=sign\n",
    "        \n",
    "        # execute the INSERT statement\n",
    "        postgres_insert_query = f\"\"\" INSERT INTO {table_name} ({columns_str}) VALUES ({value_str})\"\"\"\n",
    "        cur.execute(postgres_insert_query, record_to_insert)\n",
    "        conn.commit()\n",
    "        \n",
    "    except (Exception, psycopg2.DatabaseError) as error:\n",
    "        print(error)\n",
    "    finally:\n",
    "        print(f\"{x}. Запись успешно добавлена в таблицу {table_name}\")"
   ]
  },
  {
   "cell_type": "markdown",
   "id": "c38a051e",
   "metadata": {},
   "source": [
    "# 3. Заполнение таблиц данными"
   ]
  },
  {
   "cell_type": "code",
   "execution_count": 12,
   "id": "7ad3c14b",
   "metadata": {},
   "outputs": [
    {
     "name": "stdout",
     "output_type": "stream",
     "text": [
      "0. Запись успешно добавлена в таблицу Users\n",
      "1. Запись успешно добавлена в таблицу Users\n",
      "2. Запись успешно добавлена в таблицу Users\n",
      "3. Запись успешно добавлена в таблицу Users\n",
      "4. Запись успешно добавлена в таблицу Users\n",
      "5. Запись успешно добавлена в таблицу Users\n",
      "6. Запись успешно добавлена в таблицу Users\n",
      "7. Запись успешно добавлена в таблицу Users\n",
      "8. Запись успешно добавлена в таблицу Users\n",
      "9. Запись успешно добавлена в таблицу Users\n",
      "10. Запись успешно добавлена в таблицу Users\n",
      "11. Запись успешно добавлена в таблицу Users\n",
      "12. Запись успешно добавлена в таблицу Users\n",
      "13. Запись успешно добавлена в таблицу Users\n",
      "14. Запись успешно добавлена в таблицу Users\n"
     ]
    }
   ],
   "source": [
    "for i in range (0, 15):\n",
    "    record_to_insert = (i+1, randint(18, 70))\n",
    "    insert('Users', record_to_insert, i)\n"
   ]
  },
  {
   "cell_type": "markdown",
   "id": "494b5f7a",
   "metadata": {},
   "source": [
    "### Таблица Users"
   ]
  },
  {
   "cell_type": "code",
   "execution_count": 28,
   "id": "21f61e59",
   "metadata": {},
   "outputs": [
    {
     "data": {
      "text/html": [
       "<div>\n",
       "<style scoped>\n",
       "    .dataframe tbody tr th:only-of-type {\n",
       "        vertical-align: middle;\n",
       "    }\n",
       "\n",
       "    .dataframe tbody tr th {\n",
       "        vertical-align: top;\n",
       "    }\n",
       "\n",
       "    .dataframe thead th {\n",
       "        text-align: right;\n",
       "    }\n",
       "</style>\n",
       "<table border=\"1\" class=\"dataframe\">\n",
       "  <thead>\n",
       "    <tr style=\"text-align: right;\">\n",
       "      <th></th>\n",
       "      <th>user_id</th>\n",
       "      <th>age</th>\n",
       "    </tr>\n",
       "  </thead>\n",
       "  <tbody>\n",
       "    <tr>\n",
       "      <th>0</th>\n",
       "      <td>1</td>\n",
       "      <td>51</td>\n",
       "    </tr>\n",
       "    <tr>\n",
       "      <th>1</th>\n",
       "      <td>2</td>\n",
       "      <td>25</td>\n",
       "    </tr>\n",
       "    <tr>\n",
       "      <th>2</th>\n",
       "      <td>3</td>\n",
       "      <td>53</td>\n",
       "    </tr>\n",
       "    <tr>\n",
       "      <th>3</th>\n",
       "      <td>4</td>\n",
       "      <td>45</td>\n",
       "    </tr>\n",
       "    <tr>\n",
       "      <th>4</th>\n",
       "      <td>5</td>\n",
       "      <td>42</td>\n",
       "    </tr>\n",
       "    <tr>\n",
       "      <th>5</th>\n",
       "      <td>6</td>\n",
       "      <td>53</td>\n",
       "    </tr>\n",
       "    <tr>\n",
       "      <th>6</th>\n",
       "      <td>7</td>\n",
       "      <td>49</td>\n",
       "    </tr>\n",
       "    <tr>\n",
       "      <th>7</th>\n",
       "      <td>8</td>\n",
       "      <td>27</td>\n",
       "    </tr>\n",
       "    <tr>\n",
       "      <th>8</th>\n",
       "      <td>9</td>\n",
       "      <td>24</td>\n",
       "    </tr>\n",
       "    <tr>\n",
       "      <th>9</th>\n",
       "      <td>10</td>\n",
       "      <td>35</td>\n",
       "    </tr>\n",
       "    <tr>\n",
       "      <th>10</th>\n",
       "      <td>11</td>\n",
       "      <td>60</td>\n",
       "    </tr>\n",
       "    <tr>\n",
       "      <th>11</th>\n",
       "      <td>12</td>\n",
       "      <td>33</td>\n",
       "    </tr>\n",
       "    <tr>\n",
       "      <th>12</th>\n",
       "      <td>13</td>\n",
       "      <td>38</td>\n",
       "    </tr>\n",
       "    <tr>\n",
       "      <th>13</th>\n",
       "      <td>14</td>\n",
       "      <td>21</td>\n",
       "    </tr>\n",
       "    <tr>\n",
       "      <th>14</th>\n",
       "      <td>15</td>\n",
       "      <td>37</td>\n",
       "    </tr>\n",
       "  </tbody>\n",
       "</table>\n",
       "</div>"
      ],
      "text/plain": [
       "    user_id  age\n",
       "0         1   51\n",
       "1         2   25\n",
       "2         3   53\n",
       "3         4   45\n",
       "4         5   42\n",
       "5         6   53\n",
       "6         7   49\n",
       "7         8   27\n",
       "8         9   24\n",
       "9        10   35\n",
       "10       11   60\n",
       "11       12   33\n",
       "12       13   38\n",
       "13       14   21\n",
       "14       15   37"
      ]
     },
     "execution_count": 28,
     "metadata": {},
     "output_type": "execute_result"
    }
   ],
   "source": [
    "postgres_to_dataframe('''SELECT * FROM Users''')"
   ]
  },
  {
   "cell_type": "code",
   "execution_count": 15,
   "id": "5bd982bb",
   "metadata": {},
   "outputs": [
    {
     "name": "stdout",
     "output_type": "stream",
     "text": [
      "0. Запись успешно добавлена в таблицу Items\n",
      "1. Запись успешно добавлена в таблицу Items\n",
      "2. Запись успешно добавлена в таблицу Items\n",
      "3. Запись успешно добавлена в таблицу Items\n",
      "4. Запись успешно добавлена в таблицу Items\n",
      "5. Запись успешно добавлена в таблицу Items\n",
      "6. Запись успешно добавлена в таблицу Items\n",
      "7. Запись успешно добавлена в таблицу Items\n"
     ]
    }
   ],
   "source": [
    "for i in range (0, 8):\n",
    "    record_to_insert = (i+1, round(random.uniform(500, 5000), 3))\n",
    "    insert('Items', record_to_insert, i)"
   ]
  },
  {
   "cell_type": "markdown",
   "id": "c0dae020",
   "metadata": {},
   "source": [
    "### Таблица Items "
   ]
  },
  {
   "cell_type": "code",
   "execution_count": 29,
   "id": "45611eff",
   "metadata": {},
   "outputs": [
    {
     "data": {
      "text/html": [
       "<div>\n",
       "<style scoped>\n",
       "    .dataframe tbody tr th:only-of-type {\n",
       "        vertical-align: middle;\n",
       "    }\n",
       "\n",
       "    .dataframe tbody tr th {\n",
       "        vertical-align: top;\n",
       "    }\n",
       "\n",
       "    .dataframe thead th {\n",
       "        text-align: right;\n",
       "    }\n",
       "</style>\n",
       "<table border=\"1\" class=\"dataframe\">\n",
       "  <thead>\n",
       "    <tr style=\"text-align: right;\">\n",
       "      <th></th>\n",
       "      <th>item_id</th>\n",
       "      <th>price</th>\n",
       "    </tr>\n",
       "  </thead>\n",
       "  <tbody>\n",
       "    <tr>\n",
       "      <th>0</th>\n",
       "      <td>1</td>\n",
       "      <td>4899.348</td>\n",
       "    </tr>\n",
       "    <tr>\n",
       "      <th>1</th>\n",
       "      <td>2</td>\n",
       "      <td>834.692</td>\n",
       "    </tr>\n",
       "    <tr>\n",
       "      <th>2</th>\n",
       "      <td>3</td>\n",
       "      <td>4132.709</td>\n",
       "    </tr>\n",
       "    <tr>\n",
       "      <th>3</th>\n",
       "      <td>4</td>\n",
       "      <td>1935.671</td>\n",
       "    </tr>\n",
       "    <tr>\n",
       "      <th>4</th>\n",
       "      <td>5</td>\n",
       "      <td>1658.851</td>\n",
       "    </tr>\n",
       "    <tr>\n",
       "      <th>5</th>\n",
       "      <td>6</td>\n",
       "      <td>963.547</td>\n",
       "    </tr>\n",
       "    <tr>\n",
       "      <th>6</th>\n",
       "      <td>7</td>\n",
       "      <td>2382.050</td>\n",
       "    </tr>\n",
       "    <tr>\n",
       "      <th>7</th>\n",
       "      <td>8</td>\n",
       "      <td>2997.020</td>\n",
       "    </tr>\n",
       "  </tbody>\n",
       "</table>\n",
       "</div>"
      ],
      "text/plain": [
       "   item_id     price\n",
       "0        1  4899.348\n",
       "1        2   834.692\n",
       "2        3  4132.709\n",
       "3        4  1935.671\n",
       "4        5  1658.851\n",
       "5        6   963.547\n",
       "6        7  2382.050\n",
       "7        8  2997.020"
      ]
     },
     "execution_count": 29,
     "metadata": {},
     "output_type": "execute_result"
    }
   ],
   "source": [
    "postgres_to_dataframe('''SELECT * FROM Items''')"
   ]
  },
  {
   "cell_type": "code",
   "execution_count": 24,
   "id": "96f86ee6",
   "metadata": {},
   "outputs": [],
   "source": [
    "def insert_main(table_name, i):\n",
    "    try:\n",
    "        conn = psycopg2.connect(**params)\n",
    "        cur = conn.cursor()\n",
    "        columns = get_columns_names(table_name)\n",
    "        columns_str = \"\"\n",
    "        \n",
    "        for i in range(0, len(columns)):\n",
    "            if (i != len(columns) - 1):\n",
    "                columns_str+=\"{},\".format(columns[i])\n",
    "            else:\n",
    "                columns_str+=columns[i]\n",
    "                \n",
    "        dates = [\"15.03.2022\", \"15.03.2022\", \"21.03.2022\", \"25.03.2022\", \"04.04.2022\", \"04.04.2022\", \"04.04.2022\", \"09.04.2022\", \"10.04.2022\", \"13.04.2022\", \"16.04.2022\", \"18.04.2022\", \"25.04.2022\", \"03.05.2022\", \"05.05.2022\", \"27.05.2022\", \"17.06.2022\", \"13.07.2022\", \"28.07.2022\"]\n",
    "        user_id = [1, 2, 3, 3, 4, 4, 4, 5, 6, 7, 8, 9, 10, 11, 12, 13, 14, 14, 15]\n",
    "        item_id = [1, 2, 3, 4, 5, 6, 7, 8]\n",
    "        \n",
    "        # execute the INSERT statement \n",
    "        for i in range(0, 18):\n",
    "            postgres_insert_query = f\"\"\" INSERT INTO {table_name} ({columns_str}) VALUES\n",
    "            (\n",
    "            '{i+1}',\n",
    "            '{user_id[i]}',\n",
    "            '{random.choice(item_id)}',\n",
    "            '{dates[i]}'\n",
    "            )\n",
    "            \"\"\"\n",
    "            \n",
    "            cur.execute(postgres_insert_query, i)\n",
    "        \n",
    "            \n",
    "        conn.commit()\n",
    "        \n",
    "    except (Exception, psycopg2.DatabaseError) as error:\n",
    "        print(error)\n",
    "    finally:\n",
    "        print(f\"Запись успешно добавлена в таблицу {table_name}\")"
   ]
  },
  {
   "cell_type": "code",
   "execution_count": 25,
   "id": "127318ed",
   "metadata": {},
   "outputs": [
    {
     "name": "stdout",
     "output_type": "stream",
     "text": [
      "Запись успешно добавлена в таблицу Purchases\n"
     ]
    }
   ],
   "source": [
    "insert_main('Purchases', i)"
   ]
  },
  {
   "cell_type": "markdown",
   "id": "ed162e2b",
   "metadata": {},
   "source": [
    "### Таблица Purchases"
   ]
  },
  {
   "cell_type": "code",
   "execution_count": 30,
   "id": "c8154875",
   "metadata": {},
   "outputs": [
    {
     "data": {
      "text/html": [
       "<div>\n",
       "<style scoped>\n",
       "    .dataframe tbody tr th:only-of-type {\n",
       "        vertical-align: middle;\n",
       "    }\n",
       "\n",
       "    .dataframe tbody tr th {\n",
       "        vertical-align: top;\n",
       "    }\n",
       "\n",
       "    .dataframe thead th {\n",
       "        text-align: right;\n",
       "    }\n",
       "</style>\n",
       "<table border=\"1\" class=\"dataframe\">\n",
       "  <thead>\n",
       "    <tr style=\"text-align: right;\">\n",
       "      <th></th>\n",
       "      <th>purchase_id</th>\n",
       "      <th>user_id</th>\n",
       "      <th>item_id</th>\n",
       "      <th>date</th>\n",
       "    </tr>\n",
       "  </thead>\n",
       "  <tbody>\n",
       "    <tr>\n",
       "      <th>0</th>\n",
       "      <td>1</td>\n",
       "      <td>1</td>\n",
       "      <td>2</td>\n",
       "      <td>2022-03-15</td>\n",
       "    </tr>\n",
       "    <tr>\n",
       "      <th>1</th>\n",
       "      <td>2</td>\n",
       "      <td>2</td>\n",
       "      <td>8</td>\n",
       "      <td>2022-03-15</td>\n",
       "    </tr>\n",
       "    <tr>\n",
       "      <th>2</th>\n",
       "      <td>3</td>\n",
       "      <td>3</td>\n",
       "      <td>8</td>\n",
       "      <td>2022-03-21</td>\n",
       "    </tr>\n",
       "    <tr>\n",
       "      <th>3</th>\n",
       "      <td>4</td>\n",
       "      <td>3</td>\n",
       "      <td>8</td>\n",
       "      <td>2022-03-25</td>\n",
       "    </tr>\n",
       "    <tr>\n",
       "      <th>4</th>\n",
       "      <td>5</td>\n",
       "      <td>4</td>\n",
       "      <td>1</td>\n",
       "      <td>2022-04-04</td>\n",
       "    </tr>\n",
       "    <tr>\n",
       "      <th>5</th>\n",
       "      <td>6</td>\n",
       "      <td>4</td>\n",
       "      <td>4</td>\n",
       "      <td>2022-04-04</td>\n",
       "    </tr>\n",
       "    <tr>\n",
       "      <th>6</th>\n",
       "      <td>7</td>\n",
       "      <td>4</td>\n",
       "      <td>6</td>\n",
       "      <td>2022-04-04</td>\n",
       "    </tr>\n",
       "    <tr>\n",
       "      <th>7</th>\n",
       "      <td>8</td>\n",
       "      <td>5</td>\n",
       "      <td>7</td>\n",
       "      <td>2022-04-09</td>\n",
       "    </tr>\n",
       "    <tr>\n",
       "      <th>8</th>\n",
       "      <td>9</td>\n",
       "      <td>6</td>\n",
       "      <td>2</td>\n",
       "      <td>2022-04-10</td>\n",
       "    </tr>\n",
       "    <tr>\n",
       "      <th>9</th>\n",
       "      <td>10</td>\n",
       "      <td>7</td>\n",
       "      <td>3</td>\n",
       "      <td>2022-04-13</td>\n",
       "    </tr>\n",
       "    <tr>\n",
       "      <th>10</th>\n",
       "      <td>11</td>\n",
       "      <td>8</td>\n",
       "      <td>8</td>\n",
       "      <td>2022-04-16</td>\n",
       "    </tr>\n",
       "    <tr>\n",
       "      <th>11</th>\n",
       "      <td>12</td>\n",
       "      <td>9</td>\n",
       "      <td>8</td>\n",
       "      <td>2022-04-18</td>\n",
       "    </tr>\n",
       "    <tr>\n",
       "      <th>12</th>\n",
       "      <td>13</td>\n",
       "      <td>10</td>\n",
       "      <td>1</td>\n",
       "      <td>2022-04-25</td>\n",
       "    </tr>\n",
       "    <tr>\n",
       "      <th>13</th>\n",
       "      <td>14</td>\n",
       "      <td>11</td>\n",
       "      <td>7</td>\n",
       "      <td>2022-05-03</td>\n",
       "    </tr>\n",
       "    <tr>\n",
       "      <th>14</th>\n",
       "      <td>15</td>\n",
       "      <td>12</td>\n",
       "      <td>2</td>\n",
       "      <td>2022-05-05</td>\n",
       "    </tr>\n",
       "    <tr>\n",
       "      <th>15</th>\n",
       "      <td>16</td>\n",
       "      <td>13</td>\n",
       "      <td>7</td>\n",
       "      <td>2022-05-27</td>\n",
       "    </tr>\n",
       "    <tr>\n",
       "      <th>16</th>\n",
       "      <td>17</td>\n",
       "      <td>14</td>\n",
       "      <td>8</td>\n",
       "      <td>2022-06-17</td>\n",
       "    </tr>\n",
       "    <tr>\n",
       "      <th>17</th>\n",
       "      <td>18</td>\n",
       "      <td>14</td>\n",
       "      <td>1</td>\n",
       "      <td>2022-07-13</td>\n",
       "    </tr>\n",
       "  </tbody>\n",
       "</table>\n",
       "</div>"
      ],
      "text/plain": [
       "    purchase_id  user_id  item_id        date\n",
       "0             1        1        2  2022-03-15\n",
       "1             2        2        8  2022-03-15\n",
       "2             3        3        8  2022-03-21\n",
       "3             4        3        8  2022-03-25\n",
       "4             5        4        1  2022-04-04\n",
       "5             6        4        4  2022-04-04\n",
       "6             7        4        6  2022-04-04\n",
       "7             8        5        7  2022-04-09\n",
       "8             9        6        2  2022-04-10\n",
       "9            10        7        3  2022-04-13\n",
       "10           11        8        8  2022-04-16\n",
       "11           12        9        8  2022-04-18\n",
       "12           13       10        1  2022-04-25\n",
       "13           14       11        7  2022-05-03\n",
       "14           15       12        2  2022-05-05\n",
       "15           16       13        7  2022-05-27\n",
       "16           17       14        8  2022-06-17\n",
       "17           18       14        1  2022-07-13"
      ]
     },
     "execution_count": 30,
     "metadata": {},
     "output_type": "execute_result"
    }
   ],
   "source": [
    "postgres_to_dataframe('''SELECT * FROM Purchases''')"
   ]
  },
  {
   "cell_type": "markdown",
   "id": "fbabdadc",
   "metadata": {},
   "source": [
    "# 4. Задания"
   ]
  },
  {
   "cell_type": "markdown",
   "id": "c93db0ab",
   "metadata": {},
   "source": [
    "## А) Какую сумму в среднем в месяц тратит:"
   ]
  },
  {
   "cell_type": "markdown",
   "id": "e40b5c81",
   "metadata": {},
   "source": [
    "### Пользователи в возрастном диапазоне от 18 до 25 лет включительно:"
   ]
  },
  {
   "cell_type": "code",
   "execution_count": 90,
   "id": "2fda185d",
   "metadata": {},
   "outputs": [
    {
     "data": {
      "text/html": [
       "<div>\n",
       "<style scoped>\n",
       "    .dataframe tbody tr th:only-of-type {\n",
       "        vertical-align: middle;\n",
       "    }\n",
       "\n",
       "    .dataframe tbody tr th {\n",
       "        vertical-align: top;\n",
       "    }\n",
       "\n",
       "    .dataframe thead th {\n",
       "        text-align: right;\n",
       "    }\n",
       "</style>\n",
       "<table border=\"1\" class=\"dataframe\">\n",
       "  <thead>\n",
       "    <tr style=\"text-align: right;\">\n",
       "      <th></th>\n",
       "      <th>average_price</th>\n",
       "    </tr>\n",
       "  </thead>\n",
       "  <tbody>\n",
       "    <tr>\n",
       "      <th>0</th>\n",
       "      <td>3472.602051</td>\n",
       "    </tr>\n",
       "  </tbody>\n",
       "</table>\n",
       "</div>"
      ],
      "text/plain": [
       "   average_price\n",
       "0    3472.602051"
      ]
     },
     "execution_count": 90,
     "metadata": {},
     "output_type": "execute_result"
    }
   ],
   "source": [
    "postgres_to_dataframe(\"\"\"SELECT AVG(Items.price) as average_price FROM Items\n",
    "                         JOIN Purchases ON Items.item_id = Purchases.item_id \n",
    "                         JOIN Users ON Users.user_id = Purchases.user_id\n",
    "                         WHERE Users.age > 17 \n",
    "                         AND Users.age < 26\"\"\")"
   ]
  },
  {
   "cell_type": "markdown",
   "id": "7bd3e0c2",
   "metadata": {},
   "source": [
    "### Пользователи в возрастном диапазоне от 26 до 35 лет включительно:"
   ]
  },
  {
   "cell_type": "code",
   "execution_count": 40,
   "id": "1e95f6ab",
   "metadata": {},
   "outputs": [
    {
     "data": {
      "text/html": [
       "<div>\n",
       "<style scoped>\n",
       "    .dataframe tbody tr th:only-of-type {\n",
       "        vertical-align: middle;\n",
       "    }\n",
       "\n",
       "    .dataframe tbody tr th {\n",
       "        vertical-align: top;\n",
       "    }\n",
       "\n",
       "    .dataframe thead th {\n",
       "        text-align: right;\n",
       "    }\n",
       "</style>\n",
       "<table border=\"1\" class=\"dataframe\">\n",
       "  <thead>\n",
       "    <tr style=\"text-align: right;\">\n",
       "      <th></th>\n",
       "      <th>average_price</th>\n",
       "    </tr>\n",
       "  </thead>\n",
       "  <tbody>\n",
       "    <tr>\n",
       "      <th>0</th>\n",
       "      <td>2910.353394</td>\n",
       "    </tr>\n",
       "  </tbody>\n",
       "</table>\n",
       "</div>"
      ],
      "text/plain": [
       "   average_price\n",
       "0    2910.353394"
      ]
     },
     "execution_count": 40,
     "metadata": {},
     "output_type": "execute_result"
    }
   ],
   "source": [
    "postgres_to_dataframe(\"\"\"SELECT AVG(Items.price) as average_price FROM Items\n",
    "                         JOIN Purchases ON Items.item_id = Purchases.item_id \n",
    "                         JOIN Users ON Users.user_id = Purchases.user_id\n",
    "                         WHERE Users.age > 25 \n",
    "                         AND Users.age < 36\"\"\")"
   ]
  },
  {
   "cell_type": "markdown",
   "id": "263efbeb",
   "metadata": {},
   "source": [
    "## Б) В каком месяце года выручка от пользователей в возрастном диапазоне 35+ самая большая "
   ]
  },
  {
   "cell_type": "code",
   "execution_count": 136,
   "id": "785a20be",
   "metadata": {},
   "outputs": [
    {
     "data": {
      "text/html": [
       "<div>\n",
       "<style scoped>\n",
       "    .dataframe tbody tr th:only-of-type {\n",
       "        vertical-align: middle;\n",
       "    }\n",
       "\n",
       "    .dataframe tbody tr th {\n",
       "        vertical-align: top;\n",
       "    }\n",
       "\n",
       "    .dataframe thead th {\n",
       "        text-align: right;\n",
       "    }\n",
       "</style>\n",
       "<table border=\"1\" class=\"dataframe\">\n",
       "  <thead>\n",
       "    <tr style=\"text-align: right;\">\n",
       "      <th></th>\n",
       "      <th>mon</th>\n",
       "    </tr>\n",
       "  </thead>\n",
       "  <tbody>\n",
       "    <tr>\n",
       "      <th>0</th>\n",
       "      <td>Apr</td>\n",
       "    </tr>\n",
       "  </tbody>\n",
       "</table>\n",
       "</div>"
      ],
      "text/plain": [
       "   mon\n",
       "0  Apr"
      ]
     },
     "execution_count": 136,
     "metadata": {},
     "output_type": "execute_result"
    }
   ],
   "source": [
    "postgres_to_dataframe(\"\"\"SELECT to_char(date,'Mon') as mon \n",
    "                                FROM Purchases\n",
    "                         \n",
    "                         JOIN Users ON Purchases.user_id = Users.user_id\n",
    "                         JOIN Items on Purchases.item_id = Items.item_id\n",
    "                         WHERE age > 34\n",
    "                         GROUP BY mon\n",
    "                         HAVING sum(price) >= ALL(SELECT sum(price) FROM Items \n",
    "                                              JOIN Purchases ON Items.item_id = Purchases.item_id\n",
    "                                              JOIN Users ON Purchases.user_id = Users.user_id\n",
    "                                              WHERE age > 34\n",
    "                                              GROUP BY to_char(date,'Mon'))\n",
    "                         \"\"\") "
   ]
  },
  {
   "cell_type": "markdown",
   "id": "d124e2af",
   "metadata": {},
   "source": [
    "## В) Какой товар обеспечиает наибольший вклад в выручку за последний год "
   ]
  },
  {
   "cell_type": "code",
   "execution_count": 149,
   "id": "7c4893d9",
   "metadata": {},
   "outputs": [
    {
     "data": {
      "text/html": [
       "<div>\n",
       "<style scoped>\n",
       "    .dataframe tbody tr th:only-of-type {\n",
       "        vertical-align: middle;\n",
       "    }\n",
       "\n",
       "    .dataframe tbody tr th {\n",
       "        vertical-align: top;\n",
       "    }\n",
       "\n",
       "    .dataframe thead th {\n",
       "        text-align: right;\n",
       "    }\n",
       "</style>\n",
       "<table border=\"1\" class=\"dataframe\">\n",
       "  <thead>\n",
       "    <tr style=\"text-align: right;\">\n",
       "      <th></th>\n",
       "      <th>item_id</th>\n",
       "      <th>total</th>\n",
       "    </tr>\n",
       "  </thead>\n",
       "  <tbody>\n",
       "    <tr>\n",
       "      <th>0</th>\n",
       "      <td>8</td>\n",
       "      <td>17982.12</td>\n",
       "    </tr>\n",
       "  </tbody>\n",
       "</table>\n",
       "</div>"
      ],
      "text/plain": [
       "   item_id     total\n",
       "0        8  17982.12"
      ]
     },
     "execution_count": 149,
     "metadata": {},
     "output_type": "execute_result"
    }
   ],
   "source": [
    "postgres_to_dataframe(\"\"\"SELECT purchases.item_id, sum(price) as total FROM Purchases, Items\n",
    "                         WHERE Purchases.item_id = Items.item_id\n",
    "                         AND extract(year from date) = 2022\n",
    "                         GROUP BY purchases.item_id\n",
    "                         HAVING sum(price) >= ALL(SELECT sum(price) FROM Purchases, Items \n",
    "                                              WHERE Purchases.item_id = Items.item_id\n",
    "                                              AND extract(year from date) = 2022\n",
    "                                              GROUP BY purchases.item_id)\n",
    "\"\"\")"
   ]
  },
  {
   "cell_type": "markdown",
   "id": "0f43dccd",
   "metadata": {},
   "source": [
    "## Г) Топ-3 товаров по выручке и их доля в общей выручке за любой год"
   ]
  },
  {
   "cell_type": "code",
   "execution_count": 164,
   "id": "70a04667",
   "metadata": {},
   "outputs": [
    {
     "data": {
      "text/html": [
       "<div>\n",
       "<style scoped>\n",
       "    .dataframe tbody tr th:only-of-type {\n",
       "        vertical-align: middle;\n",
       "    }\n",
       "\n",
       "    .dataframe tbody tr th {\n",
       "        vertical-align: top;\n",
       "    }\n",
       "\n",
       "    .dataframe thead th {\n",
       "        text-align: right;\n",
       "    }\n",
       "</style>\n",
       "<table border=\"1\" class=\"dataframe\">\n",
       "  <thead>\n",
       "    <tr style=\"text-align: right;\">\n",
       "      <th></th>\n",
       "      <th>item_id</th>\n",
       "      <th>total</th>\n",
       "    </tr>\n",
       "  </thead>\n",
       "  <tbody>\n",
       "    <tr>\n",
       "      <th>0</th>\n",
       "      <td>8</td>\n",
       "      <td>17982.1200</td>\n",
       "    </tr>\n",
       "    <tr>\n",
       "      <th>1</th>\n",
       "      <td>1</td>\n",
       "      <td>14698.0450</td>\n",
       "    </tr>\n",
       "    <tr>\n",
       "      <th>2</th>\n",
       "      <td>7</td>\n",
       "      <td>7146.1504</td>\n",
       "    </tr>\n",
       "  </tbody>\n",
       "</table>\n",
       "</div>"
      ],
      "text/plain": [
       "   item_id       total\n",
       "0        8  17982.1200\n",
       "1        1  14698.0450\n",
       "2        7   7146.1504"
      ]
     },
     "execution_count": 164,
     "metadata": {},
     "output_type": "execute_result"
    }
   ],
   "source": [
    "postgres_to_dataframe(\"\"\"SELECT purchases.item_id, sum(price) as total FROM Purchases, Items\n",
    "                         WHERE Purchases.item_id = Items.item_id\n",
    "                         AND extract(year from date) = 2022\n",
    "                         GROUP BY purchases.item_id\n",
    "                         ORDER BY sum(price) DESC\n",
    "                         LIMIT 3\n",
    "\"\"\")"
   ]
  },
  {
   "cell_type": "code",
   "execution_count": null,
   "id": "49cae241",
   "metadata": {},
   "outputs": [],
   "source": []
  }
 ],
 "metadata": {
  "kernelspec": {
   "display_name": "Python 3",
   "language": "python",
   "name": "python3"
  },
  "language_info": {
   "codemirror_mode": {
    "name": "ipython",
    "version": 3
   },
   "file_extension": ".py",
   "mimetype": "text/x-python",
   "name": "python",
   "nbconvert_exporter": "python",
   "pygments_lexer": "ipython3",
   "version": "3.8.8"
  }
 },
 "nbformat": 4,
 "nbformat_minor": 5
}
